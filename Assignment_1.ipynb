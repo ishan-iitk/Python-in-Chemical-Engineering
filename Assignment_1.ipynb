{
  "nbformat": 4,
  "nbformat_minor": 0,
  "metadata": {
    "colab": {
      "name": "Untitled4.ipynb",
      "provenance": [],
      "collapsed_sections": []
    },
    "kernelspec": {
      "name": "python3",
      "display_name": "Python 3"
    },
    "language_info": {
      "name": "python"
    }
  },
  "cells": [
    {
      "cell_type": "markdown",
      "source": [
        "##Stoke's Law and terminal velocity"
      ],
      "metadata": {
        "id": "kLJE11CLMuas"
      }
    },
    {
      "cell_type": "code",
      "execution_count": null,
      "metadata": {
        "id": "0QDsoX2VZ5F4"
      },
      "outputs": [],
      "source": [
        "error=0; tol = 10**(-10)\n",
        "g=9.81\n",
        "del_t = 0.01\n",
        "v_p = 0\n",
        "vis, r, den_s, den_l = [float(x) for x in input().split()]\n",
        "error=100\n",
        "while(error > tol):\n",
        "  a = ((den_s-den_l)*(9.81))/den_s - (4.5*vis*v_p)/(den_s*r*r)\n",
        "  v_n = v_p + a*del_t\n",
        "  error = (v_n - v_p)/v_n\n",
        "  v_p = v_n\n",
        "print(\"Terminal velocity from iterations: \",v_n)\n",
        "print(\"Terminal Velocity as calculated from formula:\", (2*r*r*g*(den_s-den_l))/(9*vis))\n"
      ]
    }
  ]
}