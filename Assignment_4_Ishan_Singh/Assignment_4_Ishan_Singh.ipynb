{
 "cells": [
  {
   "cell_type": "code",
   "execution_count": 60,
   "id": "a3bcdea8",
   "metadata": {},
   "outputs": [],
   "source": [
    "import numpy as np\n",
    "import matplotlib.pyplot as plt\n",
    "import matplotlib.animation as animation\n",
    "from matplotlib.animation import FuncAnimation"
   ]
  },
  {
   "cell_type": "code",
   "execution_count": 61,
   "id": "63d2f2af",
   "metadata": {},
   "outputs": [],
   "source": [
    "l=60 \n",
    "r1=0.1 \n",
    "r2=0.15 \n",
    "n=100 \n",
    "pi=3.14 \n",
    "ac1=pi*(r1**2)\n",
    "ac2=pi*(r2**2-r1**2)\n",
    "m1=3 \n",
    "cp1=4180 \n",
    "d1=1000\n",
    "m2=5\n",
    "cp2=4180\n",
    "d2=1000"
   ]
  },
  {
   "cell_type": "code",
   "execution_count": 62,
   "id": "38cdd549",
   "metadata": {},
   "outputs": [],
   "source": [
    "T0=300\n",
    "t1i=400\n",
    "t2i=800\n",
    "u=340"
   ]
  },
  {
   "cell_type": "code",
   "execution_count": 63,
   "id": "8e684eb6",
   "metadata": {},
   "outputs": [],
   "source": [
    "dx=l/n\n",
    "tf=1000\n",
    "dt=1"
   ]
  },
  {
   "cell_type": "code",
   "execution_count": 64,
   "id": "b222d49f",
   "metadata": {},
   "outputs": [],
   "source": [
    "x=np.linspace(dx/2,l-dx/2,n)\n",
    "T1=np.ones(n)*T0\n",
    "T2=np.ones(n)*T0\n",
    "delT1_dt=np.zeros(n)\n",
    "delT2_dt=np.zeros(n)\n",
    "Tin=np.zeros((tf,n))\n",
    "Tout=np.zeros((tf,n))"
   ]
  },
  {
   "cell_type": "code",
   "execution_count": 65,
   "id": "52de9ea9",
   "metadata": {},
   "outputs": [],
   "source": [
    "t=np.arange(0,tf,dt)"
   ]
  },
  {
   "cell_type": "code",
   "execution_count": 66,
   "id": "8430f8ae",
   "metadata": {},
   "outputs": [
    {
     "data": {
      "text/plain": [
       "<Figure size 432x288 with 0 Axes>"
      ]
     },
     "metadata": {},
     "output_type": "display_data"
    }
   ],
   "source": [
    "for j in range(1,len(t)):\n",
    "    plt.clf()\n",
    "    delT1_dt[1:n]=(m1*cp1*(T1[0:n-1]-T1[1:n])+u*2*pi*r1*dx*(T2[1:n]-T1[1:n]))/(d1*cp1*dx*ac1)\n",
    "    delT1_dt[0]=(m1*cp1*(t1i-T1[0])+u*2*pi*r1*dx*(T2[0]-T1[0]))/(d1*cp1*dx*ac1)\n",
    "    delT2_dt[1:n]=(m2*cp2*(T2[0:n-1]-T2[1:n])-u*2*pi*r1*dx*(T2[1:n]-T1[1:n]))/(d2*cp2*dx*ac2)\n",
    "    delT2_dt[0]=(m2*cp2*(t2i-T2[0])-u*2*pi*r1*dx*(T2[0]-T1[0]))/(d2*cp2*dx*ac2)\n",
    "    T1=T1+delT1_dt*dt\n",
    "    T2=T2+delT2_dt*dt\n",
    "    Tin[j,:]=T1\n",
    "    Tout[j,:]=T2"
   ]
  },
  {
   "cell_type": "code",
   "execution_count": 67,
   "id": "ff00e8b7",
   "metadata": {},
   "outputs": [],
   "source": [
    "def plotmap(Tin,Tout):\n",
    "    plt.clf()\n",
    "    plt.plot(x,Tin,label=\"Inner Temp\")\n",
    "    plt.plot(x,Tout,label=\"Outer Temp\")\n",
    "    plt.xlabel('Distance(m)') \n",
    "    plt.ylabel('Temp.(k)')\n",
    "    plt.axis([0,L,0,900])\n",
    "    return plt"
   ]
  },
  {
   "cell_type": "code",
   "execution_count": 68,
   "id": "eeea9419",
   "metadata": {},
   "outputs": [
    {
     "name": "stderr",
     "output_type": "stream",
     "text": [
      "MovieWriter ffmpeg unavailable; using Pillow instead.\n"
     ]
    },
    {
     "data": {
      "image/png": "[encoded data removed]",
      "text/plain": [
       "<Figure size 432x288 with 1 Axes>"
      ]
     },
     "metadata": {
      "needs_background": "light"
     },
     "output_type": "display_data"
    }
   ],
   "source": [
    "def animate(j):\n",
    "    plotmap(Tin[j,:],Tout[j,:])\n",
    "anim = animation.FuncAnimation(plt.figure(), animate, interval=dt, frames=tf, repeat=False)\n",
    "anim.save(\"Temperature.gif\")\n",
    "plt.draw()\n",
    "plt.show()"
   ]
  },
  {
   "cell_type": "code",
   "execution_count": null,
   "id": "c113aa58",
   "metadata": {},
   "outputs": [],
   "source": []
  }
 ],
 "metadata": {
  "kernelspec": {
   "display_name": "Python 3",
   "language": "python",
   "name": "python3"
  },
  "language_info": {
   "codemirror_mode": {
    "name": "ipython",
    "version": 3
   },
   "file_extension": ".py",
   "mimetype": "text/x-python",
   "name": "python",
   "nbconvert_exporter": "python",
   "pygments_lexer": "ipython3",
   "version": "3.9.6"
  }
 },
 "nbformat": 4,
 "nbformat_minor": 5
}
